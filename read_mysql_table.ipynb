{
 "cells": [
  {
   "cell_type": "code",
   "execution_count": 1,
   "metadata": {},
   "outputs": [
    {
     "name": "stdout",
     "output_type": "stream",
     "text": [
      "Collecting pymysql\n",
      "  Using cached PyMySQL-1.0.2-py3-none-any.whl (43 kB)\n",
      "Installing collected packages: pymysql\n",
      "Successfully installed pymysql-1.0.2\n"
     ]
    }
   ],
   "source": [
    "!pip install pymysql"
   ]
  },
  {
   "cell_type": "code",
   "execution_count": 2,
   "metadata": {},
   "outputs": [
    {
     "name": "stdout",
     "output_type": "stream",
     "text": [
      "   numfield charfield\n",
      "0         1       one\n",
      "1         2       two\n"
     ]
    }
   ],
   "source": [
    "from sqlalchemy import create_engine\n",
    "import pymysql\n",
    "import pandas as pd\n",
    "\n",
    "hostname     = 'mike_ms'\n",
    "databasename = 'dsdb'\n",
    "username     = 'dsdb_user'\n",
    "passwordname = 'dsdb_user_pwd'\n",
    "tablename    = 'mytable'\n",
    "\n",
    "EngineStr    = 'mysql+mysqlconnector://' \\\n",
    "             + username \\\n",
    "             + ':' \\\n",
    "             + passwordname \\\n",
    "             + '@' \\\n",
    "             + hostname \\\n",
    "             + '/' \\\n",
    "             + databasename\n",
    "sqlEngine    = create_engine(EngineStr, echo = False)\n",
    "dbConnection = sqlEngine.connect()\n",
    "frame        = pd.read_sql(\"select * from mytable\", dbConnection);\n",
    "\n",
    "pd.set_option('display.expand_frame_repr', False)\n",
    "\n",
    "print(frame)\n",
    "\n",
    "dbConnection.close()"
   ]
  },
  {
   "cell_type": "code",
   "execution_count": null,
   "metadata": {},
   "outputs": [],
   "source": []
  }
 ],
 "metadata": {
  "kernelspec": {
   "display_name": "Python 3",
   "language": "python",
   "name": "python3"
  },
  "language_info": {
   "codemirror_mode": {
    "name": "ipython",
    "version": 3
   },
   "file_extension": ".py",
   "mimetype": "text/x-python",
   "name": "python",
   "nbconvert_exporter": "python",
   "pygments_lexer": "ipython3",
   "version": "3.8.6"
  }
 },
 "nbformat": 4,
 "nbformat_minor": 4
}
