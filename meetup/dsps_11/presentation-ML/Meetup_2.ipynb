{
  "nbformat": 4,
  "nbformat_minor": 0,
  "metadata": {
    "colab": {
      "name": "Meetup#2.ipynb",
      "provenance": [],
      "collapsed_sections": []
    },
    "kernelspec": {
      "name": "python3",
      "display_name": "Python 3"
    }
  },
  "cells": [
    {
      "cell_type": "markdown",
      "metadata": {
        "id": "ggAHj0fwre54",
        "colab_type": "text"
      },
      "source": [
        "# Meetup #2\n",
        "## Basic image operations"
      ]
    },
    {
      "cell_type": "markdown",
      "metadata": {
        "id": "M1znhAPlrrvn",
        "colab_type": "text"
      },
      "source": [
        "## Mission 1\n",
        "Download simple image with person showing char from flagg alphabet to be processed."
      ]
    },
    {
      "cell_type": "code",
      "metadata": {
        "id": "bfSQrpArbWf_",
        "colab_type": "code",
        "outputId": "ccc35106-adf3-46e0-cbae-c03410cff6b3",
        "colab": {
          "base_uri": "https://localhost:8080/",
          "height": 237
        }
      },
      "source": [
        "!wget \"https://upload.wikimedia.org/wikipedia/commons/e/ee/Mh_winkerflaggenalphabet_w.png\" -O flag.png \n",
        "!ls"
      ],
      "execution_count": 0,
      "outputs": [
        {
          "output_type": "stream",
          "text": [
            "--2020-05-27 15:14:54--  https://upload.wikimedia.org/wikipedia/commons/e/ee/Mh_winkerflaggenalphabet_w.png\n",
            "Resolving upload.wikimedia.org (upload.wikimedia.org)... 208.80.154.240, 2620:0:861:ed1a::2:b\n",
            "Connecting to upload.wikimedia.org (upload.wikimedia.org)|208.80.154.240|:443... connected.\n",
            "HTTP request sent, awaiting response... 200 OK\n",
            "Length: 3571 (3.5K) [image/png]\n",
            "Saving to: ‘flag.png’\n",
            "\n",
            "\rflag.png              0%[                    ]       0  --.-KB/s               \rflag.png            100%[===================>]   3.49K  --.-KB/s    in 0s      \n",
            "\n",
            "2020-05-27 15:14:54 (156 MB/s) - ‘flag.png’ saved [3571/3571]\n",
            "\n",
            "flag.png  sample_data\n"
          ],
          "name": "stdout"
        }
      ]
    },
    {
      "cell_type": "markdown",
      "metadata": {
        "id": "6UI4ZVnDsHAT",
        "colab_type": "text"
      },
      "source": [
        "# Mission 2\n",
        "Read image into a numpy matrix"
      ]
    },
    {
      "cell_type": "code",
      "metadata": {
        "id": "L2-PzAGecWVb",
        "colab_type": "code",
        "outputId": "396e5a9e-0f4f-4fe0-e45d-9ed254640e4d",
        "colab": {
          "base_uri": "https://localhost:8080/",
          "height": 954
        }
      },
      "source": [
        "# use openCV lib, I guess this is a part of colab\n",
        "import cv2\n",
        "img = cv2.imread(\"flag.png\")\n",
        "print(type(img))\n",
        "print(img.shape)\n",
        "img"
      ],
      "execution_count": 0,
      "outputs": [
        {
          "output_type": "stream",
          "text": [
            "<class 'numpy.ndarray'>\n",
            "(300, 295, 3)\n"
          ],
          "name": "stdout"
        },
        {
          "output_type": "execute_result",
          "data": {
            "text/plain": [
              "array([[[254, 254, 254],\n",
              "        [254, 254, 254],\n",
              "        [254, 254, 254],\n",
              "        ...,\n",
              "        [254, 254, 254],\n",
              "        [254, 254, 254],\n",
              "        [254, 254, 254]],\n",
              "\n",
              "       [[254, 254, 254],\n",
              "        [254, 254, 254],\n",
              "        [254, 254, 254],\n",
              "        ...,\n",
              "        [254, 254, 254],\n",
              "        [254, 254, 254],\n",
              "        [254, 254, 254]],\n",
              "\n",
              "       [[254, 254, 254],\n",
              "        [254, 254, 254],\n",
              "        [254, 254, 254],\n",
              "        ...,\n",
              "        [254, 254, 254],\n",
              "        [254, 254, 254],\n",
              "        [254, 254, 254]],\n",
              "\n",
              "       ...,\n",
              "\n",
              "       [[254, 254, 254],\n",
              "        [254, 254, 254],\n",
              "        [254, 254, 254],\n",
              "        ...,\n",
              "        [254, 254, 254],\n",
              "        [254, 254, 254],\n",
              "        [254, 254, 254]],\n",
              "\n",
              "       [[254, 254, 254],\n",
              "        [254, 254, 254],\n",
              "        [254, 254, 254],\n",
              "        ...,\n",
              "        [254, 254, 254],\n",
              "        [254, 254, 254],\n",
              "        [254, 254, 254]],\n",
              "\n",
              "       [[254, 254, 254],\n",
              "        [254, 254, 254],\n",
              "        [254, 254, 254],\n",
              "        ...,\n",
              "        [254, 254, 254],\n",
              "        [254, 254, 254],\n",
              "        [254, 254, 254]]], dtype=uint8)"
            ]
          },
          "metadata": {
            "tags": []
          },
          "execution_count": 13
        }
      ]
    },
    {
      "cell_type": "markdown",
      "metadata": {
        "id": "UghrSLSAOQbn",
        "colab_type": "text"
      },
      "source": [
        "# Missio 3\n",
        "show as image\n"
      ]
    },
    {
      "cell_type": "code",
      "metadata": {
        "id": "y31dYQd3uvzm",
        "colab_type": "code",
        "outputId": "2c879b42-f0e9-4b8d-9180-06a084454b2a",
        "colab": {
          "base_uri": "https://localhost:8080/",
          "height": 269
        }
      },
      "source": [
        "import matplotlib.pyplot as plt\n",
        "img_cvt = cv2.cvtColor(img, cv2.COLOR_BGR2RGB)\n",
        "plt.imshow(img_cvt)\n",
        "plt.show()"
      ],
      "execution_count": 0,
      "outputs": [
        {
          "output_type": "display_data",
          "data": {
            "image/png": "[encoded data removed]",
            "text/plain": [
              "<Figure size 432x288 with 1 Axes>"
            ]
          },
          "metadata": {
            "tags": [],
            "needs_background": "light"
          }
        }
      ]
    }
  ]
}